{
 "cells": [
  {
   "cell_type": "markdown",
   "metadata": {},
   "source": [
    "# Barplots"
   ]
  },
  {
   "cell_type": "code",
   "execution_count": null,
   "metadata": {},
   "outputs": [],
   "source": [
    "# MIT License\n",
    "# \n",
    "# Copyright (c) 2021 Playtika Ltd.\n",
    "# \n",
    "# Permission is hereby granted, free of charge, to any person obtaining a copy\n",
    "# of this software and associated documentation files (the \"Software\"), to deal\n",
    "# in the Software without restriction, including without limitation the rights\n",
    "# to use, copy, modify, merge, publish, distribute, sublicense, and/or sell\n",
    "# copies of the Software, and to permit persons to whom the Software is\n",
    "# furnished to do so, subject to the following conditions:\n",
    "# \n",
    "# The above copyright notice and this permission notice shall be included in all\n",
    "# copies or substantial portions of the Software.\n",
    "# \n",
    "# THE SOFTWARE IS PROVIDED \"AS IS\", WITHOUT WARRANTY OF ANY KIND, EXPRESS OR\n",
    "# IMPLIED, INCLUDING BUT NOT LIMITED TO THE WARRANTIES OF MERCHANTABILITY,\n",
    "# FITNESS FOR A PARTICULAR PURPOSE AND NONINFRINGEMENT. IN NO EVENT SHALL THE\n",
    "# AUTHORS OR COPYRIGHT HOLDERS BE LIABLE FOR ANY CLAIM, DAMAGES OR OTHER\n",
    "# LIABILITY, WHETHER IN AN ACTION OF CONTRACT, TORT OR OTHERWISE, ARISING FROM,\n",
    "# OUT OF OR IN CONNECTION WITH THE SOFTWARE OR THE USE OR OTHER DEALINGS IN THE\n",
    "# SOFTWARE."
   ]
  },
  {
   "cell_type": "code",
   "execution_count": null,
   "metadata": {
    "scrolled": true
   },
   "outputs": [],
   "source": [
    "import numpy as np\n",
    "import sys\n",
    "from abexp.visualization.analysis_plots import AnalysisPlot"
   ]
  },
  {
   "cell_type": "code",
   "execution_count": null,
   "metadata": {},
   "outputs": [],
   "source": [
    "labels = ['First']\n",
    "\n",
    "# Choose the height of the blue bars\n",
    "bars1 = [200]\n",
    " \n",
    "# Choose the height of the cyan bars\n",
    "bars2 = [250]\n",
    "\n",
    "bars3 = [250]\n",
    "\n",
    "bars4 = [200]\n",
    "\n",
    " \n",
    "# Choose the height of the error bars (bars1)\n",
    "yer1 = [[195], [220]]\n",
    "\n",
    "# Choose the height of the error bars (bars2)\n",
    "yer2 = [[200], [260]]\n",
    "\n",
    "yer3 = [[200], [260]]\n",
    "\n",
    "yer4 = [[195], [220]]\n",
    "\n",
    "\n",
    "bars = [bars1, bars2]\n",
    "yerr = [yer1, yer2]\n",
    "fig = AnalysisPlot.barplot(bars, yerr, title='Barplot', ylabel='kpi', xlabel=labels, groupslabel=['control', 'treatment'], rotation=10.1)"
   ]
  },
  {
   "cell_type": "code",
   "execution_count": null,
   "metadata": {},
   "outputs": [],
   "source": [
    "labels = ['G1']\n",
    "\n",
    "# Choose the height of the blue bars\n",
    "bars1 = [200]\n",
    " \n",
    "# Choose the height of the cyan bars\n",
    "bars2 = [250]\n",
    "\n",
    "bars3 = [250]\n",
    "\n",
    "bars4 = [200]\n",
    "\n",
    "# Choose the height of the error bars (bars1)\n",
    "yer1 = [[195], [220]]\n",
    "\n",
    "# Choose the height of the error bars (bars2)\n",
    "yer2 = [[200], [260]]\n",
    "\n",
    "yer3 = [[200], [260]]\n",
    "\n",
    "yer4 = [[195], [220]]\n",
    "\n",
    "\n",
    "bars = [bars1, bars2, bars3]\n",
    "yerr = [yer1, yer2, yer3]\n",
    "fig = AnalysisPlot.barplot(bars, yerr, title='Barplot')"
   ]
  },
  {
   "cell_type": "code",
   "execution_count": null,
   "metadata": {},
   "outputs": [],
   "source": [
    "labels = ['G1']\n",
    "\n",
    "# Choose the height of the blue bars\n",
    "bars1 = [200]\n",
    " \n",
    "# Choose the height of the cyan bars\n",
    "bars2 = [250]\n",
    "\n",
    "bars3 = [250]\n",
    "\n",
    "bars4 = [200]\n",
    "\n",
    " \n",
    "# Choose the height of the error bars (bars1)\n",
    "yer1 = [[195], [220]]\n",
    "\n",
    "# Choose the height of the error bars (bars2)\n",
    "yer2 = [[200], [260]]\n",
    "\n",
    "yer3 = [[200], [260]]\n",
    "\n",
    "yer4 = [[195], [220]]\n",
    "\n",
    "\n",
    "bars = [bars1, bars2, bars3, bars4]\n",
    "yerr = [yer1, yer2, yer3, yer4]\n",
    "fig = AnalysisPlot.barplot(bars, yerr, title='Barplot', legendloc='lower right')"
   ]
  },
  {
   "cell_type": "code",
   "execution_count": null,
   "metadata": {},
   "outputs": [],
   "source": [
    "labels = ['G1', 'G2']\n",
    "\n",
    "# Choose the height of the blue bars\n",
    "bars1 = [200, 340]\n",
    " \n",
    "# Choose the height of the cyan bars\n",
    "bars2 = [250, 320]\n",
    " \n",
    "# Choose the height of the error bars (bars1)\n",
    "yer1 = [[200-5, 340-5], [200+20, 340+20]]\n",
    "\n",
    "# Choose the height of the error bars (bars2)\n",
    "yer2 = [[250-50, 320-50], [250+10, 320+10]]\n",
    "\n",
    "bars = [bars1, bars2]\n",
    "yerr = [yer1, yer2]\n",
    "fig = AnalysisPlot.barplot(bars, yerr, title='Barplot')"
   ]
  },
  {
   "cell_type": "code",
   "execution_count": null,
   "metadata": {},
   "outputs": [],
   "source": [
    "labels = ['G1', 'G2']\n",
    "\n",
    "# Choose the height of the blue bars\n",
    "bars1 = [200, 340]\n",
    " \n",
    "# Choose the height of the cyan bars\n",
    "bars2 = [250, 320]\n",
    "\n",
    "bars3 = [250, 320]\n",
    "\n",
    "bars4 = [200, 340]\n",
    "\n",
    " \n",
    "# Choose the height of the error bars \n",
    "yer1 = [[200-5,  340-5],  [200+20, 340+20]]\n",
    "yer2 = [[250-50, 320-50], [250+10, 320+10]]\n",
    "yer3 = [[250-50, 320-50], [250+10, 320+10]]\n",
    "yer4 = [[200-5,  340-5],  [200+20, 340+20]]\n",
    "\n",
    "bars = [bars1, bars2, bars3]\n",
    "yerr = [yer1, yer2, yer3]\n",
    "fig = AnalysisPlot.barplot(bars, yerr, title='Barplot')"
   ]
  },
  {
   "cell_type": "code",
   "execution_count": null,
   "metadata": {},
   "outputs": [],
   "source": [
    "labels = ['G1', 'G2']\n",
    "\n",
    "# Choose the height of the blue bars\n",
    "bars1 = [200, 340]\n",
    " \n",
    "# Choose the height of the cyan bars\n",
    "bars2 = [250, 320]\n",
    "\n",
    "bars3 = [250, 320]\n",
    "\n",
    "bars4 = [200, 340]\n",
    "\n",
    " \n",
    "# Choose the height of the error bars\n",
    "yer1 = [[200-5,  340-5],  [200+20, 340+20]]\n",
    "yer2 = [[250-50, 320-50], [250+10, 320+10]]\n",
    "yer3 = [[250-50, 320-50], [250+10, 320+10]]\n",
    "yer4 = [[200-5,  340-80],  [200+20, 340+20]]\n",
    "\n",
    "\n",
    "bars = [bars1, bars2, bars3, bars4]\n",
    "yerr = [yer1, yer2, yer3, yer4]\n",
    "fig = AnalysisPlot.barplot(bars, yerr, title='Barplot')"
   ]
  },
  {
   "cell_type": "code",
   "execution_count": null,
   "metadata": {},
   "outputs": [],
   "source": [
    "labels = ['G1', 'G2', 'G3']\n",
    "\n",
    "# Choose the height of the blue bars\n",
    "bars1 = [200, 340, 300]\n",
    " \n",
    "# Choose the height of the cyan bars\n",
    "bars2 = [250, 320, 340]\n",
    "\n",
    "bars3 = [250, 320, 340]\n",
    "\n",
    "bars4 = [200, 340, 300]\n",
    "\n",
    " \n",
    "# Choose the height of the error bars (bars1)\n",
    "yer1 = [[200-5,  340-5,  300-5],  [200+20, 340+20, 300+20]]\n",
    "yer2 = [[250-50, 320-50, 340-50], [250+10, 320+10, 340+10]]\n",
    "yer3 = [[250-50, 320-50, 340-50], [250+10, 320+10, 340+10]]\n",
    "yer4 = [[200-5,  340-5,  300-5],  [200+20, 340+20, 300+20]]\n",
    "\n",
    "\n",
    "bars = [bars1, bars2]\n",
    "yerr = [yer1, yer2]\n",
    "fig = AnalysisPlot.barplot(bars, yerr, title='Barplot')"
   ]
  },
  {
   "cell_type": "code",
   "execution_count": null,
   "metadata": {},
   "outputs": [],
   "source": [
    "labels = ['G1', 'G2', 'G3']\n",
    "\n",
    "# Choose the height of the blue bars\n",
    "bars1 = [200, 340, 300]\n",
    " \n",
    "# Choose the height of the cyan bars\n",
    "bars2 = [250, 320, 340]\n",
    "\n",
    "bars3 = [250, 320, 340]\n",
    "\n",
    "bars4 = [200, 340, 300]\n",
    "\n",
    " \n",
    "# Choose the height of the error bars\n",
    "yer1 = [[200-5,  340-5,  300-5],  [200+20, 340+20, 300+20]]\n",
    "yer2 = [[250-50, 320-50, 340-50], [250+10, 320+10, 340+10]]\n",
    "yer3 = [[250-50, 320-50, 340-50], [250+10, 320+10, 340+10]]\n",
    "yer4 = [[200-5,  340-5,  300-5],  [200+20, 340+20, 300+20]]\n",
    "\n",
    "\n",
    "bars = [bars1, bars2, bars3]\n",
    "yerr = [yer1, yer2, yer3]\n",
    "fig = AnalysisPlot.barplot(bars, yerr, title='Barplot')"
   ]
  },
  {
   "cell_type": "code",
   "execution_count": null,
   "metadata": {},
   "outputs": [],
   "source": [
    "labels = ['G1', 'G2', 'G3']\n",
    "\n",
    "# Choose the height of the blue bars\n",
    "bars1 = [200, 340, 300]\n",
    " \n",
    "# Choose the height of the cyan bars\n",
    "bars2 = [250, 320, 340]\n",
    "\n",
    "bars3 = [250, 320, 340]\n",
    "\n",
    "bars4 = [200, 340, 300]\n",
    "\n",
    " \n",
    "# Choose the height of the error bars \n",
    "yer1 = [[200-5,  340-5,  300-5],  [200+20, 340+20, 300+20]]\n",
    "yer2 = [[250-50, 320-50, 340-50], [250+10, 320+10, 340+10]]\n",
    "yer3 = [[250-50, 320-50, 340-50], [250+10, 320+10, 340+10]]\n",
    "yer4 = [[200-5,  340-5,  300-5],  [200+20, 340+20, 300+20]]\n",
    "\n",
    "\n",
    "bars = [bars1, bars2, bars3, bars4]\n",
    "yerr = [yer1, yer2, yer3, yer4]\n",
    "fig = AnalysisPlot.barplot(bars, yerr, title='Barplot')"
   ]
  },
  {
   "cell_type": "code",
   "execution_count": null,
   "metadata": {},
   "outputs": [],
   "source": [
    "labels = ['G1', 'G2', 'G3', 'G4']\n",
    "\n",
    "# Choose the height of the blue bars\n",
    "bars1 = [200, 340, 300, 360]\n",
    " \n",
    "# Choose the height of the cyan bars\n",
    "bars2 = [250, 320, 340, 270]\n",
    "\n",
    "bars3 = [250, 320, 340, 270]\n",
    "\n",
    "bars4 = [200, 340, 300, 360]\n",
    "\n",
    " \n",
    "# Choose the height of the error bars \n",
    "yer1 = [[200-5,  340-5,  300-5,  360-8],  [200+20, 340+20, 300+20, 360+70]]\n",
    "\n",
    "yer2 = [[250-50, 320-50, 340-50, 270-34], [250+10, 320+10, 340+10, 270+30]]\n",
    "\n",
    "yer3 = [[250-50, 320-50, 340-50, 270-34], [250+10, 320+10, 340+10, 270+30]]\n",
    "\n",
    "yer4 = [[200-5,  340-5,  300-5,  360-8],  [200+20, 340+20, 300+20, 360+70]]\n",
    "\n",
    "\n",
    "bars = [bars1, bars2]\n",
    "yerr = [yer1, yer2]\n",
    "fig = AnalysisPlot.barplot(bars, yerr, title='Barplot')"
   ]
  },
  {
   "cell_type": "code",
   "execution_count": null,
   "metadata": {},
   "outputs": [],
   "source": [
    "labels = ['G1', 'G2', 'G3', 'G4']\n",
    "\n",
    "# Choose the height of the blue bars\n",
    "bars1 = [200, 340, 300, 360]\n",
    " \n",
    "# Choose the height of the cyan bars\n",
    "bars2 = [250, 320, 340, 270]\n",
    "\n",
    "bars3 = [250, 320, 340, 270]\n",
    "\n",
    "bars4 = [200, 340, 300, 360]\n",
    "\n",
    " \n",
    "# Choose the height of the error bars \n",
    "yer1 = [[200-5,  340-5,  300-5,  360-8],  [200+20, 340+20, 300+20, 360+70]]\n",
    "\n",
    "yer2 = [[250-50, 320-50, 340-50, 270-34], [250+10, 320+10, 340+10, 270+30]]\n",
    "\n",
    "yer3 = [[250-50, 320-50, 340-50, 270-34], [250+10, 320+10, 340+10, 270+30]]\n",
    "\n",
    "yer4 = [[200-5,  340-5,  300-5,  360-8],  [200+20, 340+20, 300+20, 360+70]]\n",
    "\n",
    "\n",
    "bars = [bars1, bars2, bars3]\n",
    "yerr = [yer1, yer2, yer3]\n",
    "fig = AnalysisPlot.barplot(bars, yerr, title='Barplot')"
   ]
  },
  {
   "cell_type": "code",
   "execution_count": null,
   "metadata": {},
   "outputs": [],
   "source": [
    "labels = ['G1', 'G2', 'G3', 'G4']\n",
    "\n",
    "# Choose the height of the blue bars\n",
    "bars1 = [200, 340, 300, 360]\n",
    " \n",
    "# Choose the height of the cyan bars\n",
    "bars2 = [250, 320, 340, 270]\n",
    "\n",
    "bars3 = [250, 320, 340, 270]\n",
    "\n",
    "bars4 = [200, 340, 300, 360]\n",
    "\n",
    " \n",
    "# Choose the height of the error bars \n",
    "yer1 = [[200-5,  340-5,  300-5,  360-8],  [200+20, 340+20, 300+20, 360+70]]\n",
    "\n",
    "yer2 = [[250-50, 320-50, 340-50, 270-34], [250+10, 320+10, 340+10, 270+30]]\n",
    "\n",
    "yer3 = [[250-50, 320-50, 340-50, 270-34], [250+10, 320+10, 340+10, 270+30]]\n",
    "\n",
    "yer4 = [[200-5,  340-5,  300-5,  360-8],  [200+20, 340+20, 300+20, 360+70]]\n",
    "\n",
    "\n",
    "bars = [bars1, bars2, bars3, bars4]\n",
    "yerr = [yer1, yer2, yer3, yer4]\n",
    "fig = AnalysisPlot.barplot(bars, yerr, title='Barplot')"
   ]
  },
  {
   "cell_type": "code",
   "execution_count": null,
   "metadata": {},
   "outputs": [],
   "source": [
    "labels = ['G1', 'G2', 'G3', 'G4', 'G5']\n",
    "\n",
    "# Choose the height of the bars\n",
    "bars1 = [200, 340, 300, 360, 340]\n",
    "bars2 = [250, 320, 340, 270, 400]\n",
    "bars3 = [250, 320, 340, 270, 600]\n",
    "bars4 = [200, 340, 300, 360, 500]\n",
    "\n",
    "# Choose the height of the error bars \n",
    "yer1 = [[200-5, 340-5, 300-5, 360-8, 340-12], [200+20, 340+20, 300+20, 360+70, 340+100]]\n",
    "yer2 = [[250-50, 320-50, 340-50, 270-34, 400-90], [250+10, 320+10, 340+10, 270+30, 400+60]]\n",
    "yer3 = [[250-50, 320-50, 340-50, 270-34, 600-22], [250+10, 320+10, 340+10, 270+30, 600+12]]\n",
    "yer4 = [[200-5, 340-5, 300-5, 360-8, 500-30], [200+20, 340+20, 300+20, 360+70, 500+67]]\n",
    "\n",
    "bars = [bars1, bars2]\n",
    "yerr = [yer1, yer2]\n",
    "\n",
    "\n",
    "fig = AnalysisPlot.barplot(bars, yerr, title='Barplot')"
   ]
  },
  {
   "cell_type": "code",
   "execution_count": null,
   "metadata": {},
   "outputs": [],
   "source": [
    "labels = ['G1', 'G2', 'G3', 'G4', 'G5']\n",
    "\n",
    "# Choose the height of the bars\n",
    "bars1 = [200, 340, 300, 360, 340]\n",
    "bars2 = [250, 320, 340, 270, 400]\n",
    "bars3 = [250, 320, 340, 270, 600]\n",
    "bars4 = [200, 340, 300, 360, 500]\n",
    "\n",
    "# Choose the height of the error bars \n",
    "yer1 = [[200-5, 340-5, 300-5, 360-8, 340-12], [200+20, 340+20, 300+20, 360+70, 340+100]]\n",
    "yer2 = [[250-50, 320-50, 340-50, 270-34, 400-90], [250+10, 320+10, 340+10, 270+30, 400+60]]\n",
    "yer3 = [[250-50, 320-50, 340-50, 270-34, 600-22], [250+10, 320+10, 340+10, 270+30, 600+12]]\n",
    "yer4 = [[200-5, 340-5, 300-5, 360-8, 500-30], [200+20, 340+20, 300+20, 360+70, 500+67]]\n",
    "\n",
    "bars = [bars1, bars2, bars3]\n",
    "yerr = [yer1, yer2, yer3]\n",
    "fig = AnalysisPlot.barplot(bars, yerr, title='Barplot')"
   ]
  },
  {
   "cell_type": "code",
   "execution_count": null,
   "metadata": {},
   "outputs": [],
   "source": [
    "labels = ['G1', 'G2', 'G3', 'G4', 'G5']\n",
    "\n",
    "# Choose the height of the bars\n",
    "bars1 = [200, 340, 300, 360, 340]\n",
    "bars2 = [250, 320, 340, 270, 400]\n",
    "bars3 = [250, 320, 340, 270, 600]\n",
    "bars4 = [200, 340, 300, 360, 500]\n",
    "\n",
    "# Choose the height of the error bars \n",
    "yer1 = [[200-5, 340-5, 300-5, 360-8, 340-12], [200+20, 340+20, 300+20, 360+70, 340+100]]\n",
    "yer2 = [[250-50, 320-50, 340-50, 270-34, 400-90], [250+10, 320+10, 340+10, 270+30, 400+60]]\n",
    "yer3 = [[250-50, 320-50, 340-50, 270-34, 600-22], [250+10, 320+10, 340+10, 270+30, 600+12]]\n",
    "yer4 = [[200-5, 340-5, 300-5, 360-8, 500-30], [200+20, 340+20, 300+20, 360+70, 500+67]]\n",
    "\n",
    "bars = [bars1, bars2, bars3, bars4]\n",
    "yerr = [yer1, yer2, yer3, yer4]\n",
    "\n",
    "fig = AnalysisPlot.barplot(bars, yerr, title='Barplot', xlabel=labels)"
   ]
  },
  {
   "cell_type": "code",
   "execution_count": null,
   "metadata": {
    "scrolled": false
   },
   "outputs": [],
   "source": [
    "labels = ['First', 'Second', 'Third', 'Fourth', 'Fifth', 'Sixth']\n",
    "\n",
    "# Choose the height of the  bars\n",
    "bars1 = [200, 340, 300, 360, 340, 800]\n",
    "bars2 = [250, 320, 340, 270, 400, 100]\n",
    "bars3 = [250, 320, 340, 270, 400, 100]\n",
    "bars4 = [250, 320, 340, 270, 600, 700]\n",
    "\n",
    "\n",
    "# Choose the height of the error bars\n",
    "yer1 = [[200-5,  340-5,  300-5,  360-8,  340-12, 800-50], [200+20, 340+20, 300+20, 360+70, 340+100, 800+50]]\n",
    "yer2 = [[250-50, 320-50, 340-50, 270-34, 400-90, 100-3],  [250+10, 320+10, 340+10, 270+30, 400+60,  100+20]]\n",
    "yer3 = [[250-50, 320-50, 340-50, 270-34, 400-90, 100-3],  [250+10, 320+10, 340+10, 270+30, 400+60,  100+20]]\n",
    "yer4 = [[250-5,  320-5,  340-5,  270-8,  600-12, 700-50], [250+20, 320+20, 340+20, 270+70, 600+100, 700+50]]\n",
    "\n",
    "bars = [bars1, bars2]\n",
    "yerr = [yer1, yer2]\n",
    "fig = AnalysisPlot.barplot(bars, yerr, xlabel=labels, rotation=45)"
   ]
  },
  {
   "cell_type": "code",
   "execution_count": null,
   "metadata": {},
   "outputs": [],
   "source": [
    "labels = ['First', 'Second', 'Third', 'Fourth', 'Fifth', 'Sixth']\n",
    "\n",
    "# Choose the height of the  bars\n",
    "bars1 = [200, 340, 300, 360, 340, 800]\n",
    "bars2 = [250, 320, 340, 270, 400, 100]\n",
    "bars3 = [250, 320, 340, 270, 400, 100]\n",
    "bars4 = [250, 320, 340, 270, 600, 700]\n",
    "\n",
    "\n",
    "# Choose the height of the error bars\n",
    "yer1 = [[200-5,  340-5,  300-5,  360-8,  340-12, 800-50], [200+20, 340+20, 300+20, 360+70, 340+100, 800+50]]\n",
    "yer2 = [[250-50, 320-50, 340-50, 270-34, 400-90, 100-3],  [250+10, 320+10, 340+10, 270+30, 400+60,  100+20]]\n",
    "yer3 = [[250-50, 320-50, 340-50, 270-34, 400-90, 100-3],  [250+10, 320+10, 340+10, 270+30, 400+60,  100+20]]\n",
    "yer4 = [[250-5,  320-5,  340-5,  270-8,  600-12, 700-50], [250+20, 320+20, 340+20, 270+70, 600+100, 700+50]]\n",
    "\n",
    "bars = [bars1, bars2, bars3]\n",
    "yerr = [yer1, yer2, yer3]\n",
    "fig = AnalysisPlot.barplot(bars, yerr, xlabel=labels, rotation=45)"
   ]
  },
  {
   "cell_type": "code",
   "execution_count": null,
   "metadata": {},
   "outputs": [],
   "source": [
    "labels = ['First', 'Second', 'Third', 'Fourth', 'Fifth', 'Sixth']\n",
    "\n",
    "# Choose the height of the  bars\n",
    "bars1 = [200, 340, 300, 360, 340, 800]\n",
    "bars2 = [250, 320, 340, 270, 400, 100]\n",
    "bars3 = [250, 320, 340, 270, 400, 100]\n",
    "bars4 = [250, 320, 340, 270, 600, 700]\n",
    "\n",
    "# Choose the height of the error bars\n",
    "yer1 = [[200-5,  340-5,  300-5,  360-8,  340-12, 800-50], [200+20, 340+20, 300+20, 360+70, 340+100, 800+50]]\n",
    "yer2 = [[250-50, 320-50, 340-50, 270-34, 400-90, 100-3],  [250+10, 320+10, 340+10, 270+30, 400+60,  100+20]]\n",
    "yer3 = [[250-50, 320-50, 340-50, 270-34, 400-90, 100-3],  [250+10, 320+10, 340+10, 270+30, 400+60,  100+20]]\n",
    "yer4 = [[250-5,  320-5,  340-5,  270-8,  600-12, 700-50], [250+20, 320+20, 340+20, 270+70, 600+100, 700+50]]\n",
    "\n",
    "bars = [bars1, bars2, bars3, bars4]\n",
    "yerr = [yer1, yer2, yer3, yer4]\n",
    "fig = AnalysisPlot.barplot(bars, yerr, xlabel=labels, rotation=45)"
   ]
  },
  {
   "cell_type": "markdown",
   "metadata": {},
   "source": [
    "# Forest plot"
   ]
  },
  {
   "cell_type": "code",
   "execution_count": null,
   "metadata": {
    "scrolled": false
   },
   "outputs": [],
   "source": [
    "y= np.random.choice(np.arange(1, 7, 0.1), 1)\n",
    "err = np.random.choice(np.arange(0.5, 3, 0.1), 1)\n",
    "p_val = np.around(np.random.choice(np.arange(0.5, 1, 0.1), 4), 1)\n",
    "\n",
    "fig = AnalysisPlot.forest_plot(y, err, annotation=p_val, ylabel='diff arpu', marker='.')"
   ]
  },
  {
   "cell_type": "code",
   "execution_count": null,
   "metadata": {
    "scrolled": false
   },
   "outputs": [],
   "source": [
    "y= np.random.choice(np.arange(1, 7, 0.1), 2)\n",
    "err = np.random.choice(np.arange(0.5, 3, 0.1), 2)\n",
    "p_val = np.around(np.random.choice(np.arange(0.5, 1, 0.1), 2), 4)\n",
    "\n",
    "fig = AnalysisPlot.forest_plot(y, err, annotation=p_val, annotationlabel='p-value', title='Difference in churn rate', xlabel=['NPU', 'Platinum'])"
   ]
  },
  {
   "cell_type": "code",
   "execution_count": null,
   "metadata": {
    "scrolled": false
   },
   "outputs": [],
   "source": [
    "y= np.random.choice(np.arange(1, 7, 0.1), 3)\n",
    "err = np.random.choice(np.arange(0.5, 3, 0.1), 3)\n",
    "p_val = np.around(np.random.choice(np.arange(0.5, 1, 0.1), 3), 4)\n",
    "\n",
    "fig = AnalysisPlot.forest_plot(y, err, annotation=p_val, ylabel='diff arpu', annotationlabel='prob(A>B)', title='A/B test',\n",
    "                              marker='_')"
   ]
  },
  {
   "cell_type": "code",
   "execution_count": null,
   "metadata": {
    "scrolled": true
   },
   "outputs": [],
   "source": [
    "y= np.random.choice(np.arange(1, 7, 0.1), 4)\n",
    "err = np.random.choice(np.arange(0.5, 3, 0.1), 4)\n",
    "p_val = np.around(np.random.choice(np.arange(0.5, 1, 0.1), 4), 4)\n",
    "\n",
    "fig = AnalysisPlot.forest_plot(y, err, annotation=p_val, ylabel='diff arpu', annotationlabel='p-value')"
   ]
  },
  {
   "cell_type": "code",
   "execution_count": null,
   "metadata": {
    "scrolled": false
   },
   "outputs": [],
   "source": [
    "y= np.random.choice(np.arange(1, 7, 0.1), 5)\n",
    "err = np.random.choice(np.arange(0.5, 3, 0.1), 5)\n",
    "p_val = np.around(np.random.choice(np.arange(0.5, 1, 0.1), 5), 4)\n",
    "\n",
    "fig = AnalysisPlot.forest_plot(y, err, annotation=p_val, ylabel='diff arpu', annotationlabel='p-value', figsize=(15,8))"
   ]
  },
  {
   "cell_type": "code",
   "execution_count": null,
   "metadata": {
    "scrolled": false
   },
   "outputs": [],
   "source": [
    "y= np.random.choice(np.arange(1, 7, 0.1), 6)\n",
    "err = np.random.choice(np.arange(0.5, 3, 0.1), 6)\n",
    "p_val = np.around(np.random.choice(np.arange(0.5, 1, 0.1), 6), 4)\n",
    "\n",
    "fig = AnalysisPlot.forest_plot(y, err, annotation=p_val, ylabel='diff arpu', annotationlabel='prob(A>B)', figsize=(18,12),\n",
    "                 xlabel=['NPU','PU', 'gold', 'platinum', 'new users', 'italians'], rotation=45)"
   ]
  },
  {
   "cell_type": "code",
   "execution_count": null,
   "metadata": {
    "scrolled": false
   },
   "outputs": [],
   "source": [
    "y1 = np.random.choice(np.arange(1, 7, 0.1), 15)\n",
    "yerr1 = np.random.choice(np.arange(0.5, 1, 0.1), 15)\n",
    "\n",
    "y2 = np.random.choice(np.arange(1, 7, 0.1), 15) + 10\n",
    "yerr2 = np.random.choice(np.arange(0.5, 1, 0.1), 15) \n",
    "\n",
    "y3 = np.random.choice(np.arange(1, 7, 0.1), 15) + 5\n",
    "yerr3 = np.random.choice(np.arange(0.5, 1, 0.1), 15) \n",
    "\n",
    "y = [y1, y2, y3]\n",
    "yerr = [yerr1, yerr2, yerr3]\n",
    "fig = AnalysisPlot.timeseries_plot(y, yerr)"
   ]
  },
  {
   "cell_type": "code",
   "execution_count": null,
   "metadata": {
    "scrolled": false
   },
   "outputs": [],
   "source": [
    "y1 = np.random.choice(np.arange(1, 7, 0.1), 7)\n",
    "yerr1 = np.random.choice(np.arange(0.5, 1, 0.1), 7)\n",
    "\n",
    "y2 = np.random.choice(np.arange(1, 7, 0.1), 7) + 2\n",
    "yerr2 = np.random.choice(np.arange(0.5, 1, 0.1), 7) \n",
    "\n",
    "y = [y1, y2]\n",
    "yerr = [yerr1, yerr2]\n",
    "fig = AnalysisPlot.timeseries_plot(y, yerr, groupslabel=['control group', 'treatment group'],\n",
    "                                  xlabel=['2020-01-01', '2020-01-02', '2020-01-03', '2020-01-04', \n",
    "                                           '2020-01-05', '2020-01-06', '2020-01-07'], rotation=0, ylabel='dau')"
   ]
  },
  {
   "cell_type": "code",
   "execution_count": null,
   "metadata": {
    "scrolled": false
   },
   "outputs": [],
   "source": [
    "y1 = np.random.choice(np.arange(1, 7, 0.1), 30)\n",
    "yerr1 = np.random.choice(np.arange(0.5, 1, 0.1), 30)\n",
    "\n",
    "y2 = np.random.choice(np.arange(1, 7, 0.1), 30) + 10\n",
    "yerr2 = np.random.choice(np.arange(0.5, 1, 0.1), 30) \n",
    "\n",
    "y = [y1, y2]\n",
    "yerr = [yerr1, yerr2]\n",
    "fig = AnalysisPlot.timeseries_plot(y, yerr)"
   ]
  }
 ],
 "metadata": {
  "hide_input": false,
  "kernelspec": {
   "display_name": "Python 3",
   "language": "python",
   "name": "python3"
  },
  "language_info": {
   "codemirror_mode": {
    "name": "ipython",
    "version": 3
   },
   "file_extension": ".py",
   "mimetype": "text/x-python",
   "name": "python",
   "nbconvert_exporter": "python",
   "pygments_lexer": "ipython3",
   "version": "3.7.6"
  },
  "pycharm": {
   "stem_cell": {
    "cell_type": "raw",
    "metadata": {
     "collapsed": false
    },
    "source": []
   }
  }
 },
 "nbformat": 4,
 "nbformat_minor": 4
}
